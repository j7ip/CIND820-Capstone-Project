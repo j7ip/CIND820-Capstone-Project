{
 "cells": [
  {
   "cell_type": "markdown",
   "id": "f904f63f",
   "metadata": {},
   "source": [
    "<h1>Step 4 Model Selection<h1>"
   ]
  },
  {
   "cell_type": "markdown",
   "id": "e31413b7",
   "metadata": {},
   "source": [
    "<h2>  The second research question is selecting the best model for predicting the popularity of online news. It is the focus in this step. \n",
    "\n",
    "The process in this step includes:1. splitting dataset into training (70%) and testing (30%) sets. 2. Select several classifications models for testing 3.Normalizing features 4. Testing 5. Review testing results and select the best one for the purpose <h2>\n"
   ]
  },
  {
   "cell_type": "code",
   "execution_count": 281,
   "id": "cdf6030f",
   "metadata": {},
   "outputs": [
    {
     "name": "stdout",
     "output_type": "stream",
     "text": [
      "(26924, 46)\n",
      "(26924,)\n",
      "(11539, 46)\n",
      "(11539,)\n"
     ]
    }
   ],
   "source": [
    "# 1. Split data into training and testing sets - 70% training and 30% test\n",
    "\n",
    "\n",
    "X= df3.drop(df3.columns[[-3,-4]], axis=1)\n",
    "y=df3['shares_levels']  \n",
    "\n",
    "from sklearn.model_selection import train_test_split\n",
    "from sklearn.metrics import confusion_matrix\n",
    "from sklearn.metrics import accuracy_score,roc_curve,roc_auc_score\n",
    "\n",
    "X_train, X_test, y_train, y_test = train_test_split(X, y, test_size=0.3, random_state = 0) \n",
    "\n",
    "\n",
    "print(X_train.shape)\n",
    "print(y_train.shape)\n",
    "print(X_test.shape)\n",
    "print(y_test.shape)"
   ]
  },
  {
   "cell_type": "markdown",
   "id": "de571f2b",
   "metadata": {},
   "source": [
    "Models that are selected: Random Forest KNN Logistic Regression\n",
    "\n",
    "There are different techniques for normalizing features.\n",
    "\n",
    "1) Min Max Scaler - might not be optimal if vairables contain outliners \n",
    "2) Box-Cox - It can only be applied to strictly positive data. However,there are negative values in dataset. \n",
    "3) Standard Scaler "
   ]
  },
  {
   "cell_type": "code",
   "execution_count": 283,
   "id": "d812e123",
   "metadata": {},
   "outputs": [],
   "source": [
    "#2.Feature Scaling - StandardScaler\n",
    "from sklearn.preprocessing import StandardScaler\n",
    "\n",
    "sc = StandardScaler()\n",
    "\n",
    "#transform data\n",
    "normalized_X_train = sc.fit_transform(X_train)\n",
    "normalized_X_test = sc.fit_transform(X_test)\n",
    "\n"
   ]
  },
  {
   "cell_type": "markdown",
   "id": "dfeb35be",
   "metadata": {},
   "source": [
    "<h2> 1st testing <h2>\n",
    "<br> \n",
    "<h2> A. Random Forest <h2>"
   ]
  },
  {
   "cell_type": "markdown",
   "id": "d2888f32",
   "metadata": {},
   "source": [
    "<h5>Build the model<h5>"
   ]
  },
  {
   "cell_type": "code",
   "execution_count": 284,
   "id": "9a343a86",
   "metadata": {},
   "outputs": [],
   "source": [
    "#Import Random Forest Model\n",
    "from sklearn.ensemble import RandomForestClassifier\n",
    "\n",
    "#Create a Random Forest Classifier with 100 trees(default)\n",
    "clf=RandomForestClassifier(n_estimators=100)\n",
    "\n",
    "#Train the model using the training sets y_pred=clf.predict(X_test)\n",
    "RF=clf.fit(X_train,y_train)\n",
    "\n",
    "prediction=RF.predict(X_test)"
   ]
  },
  {
   "cell_type": "markdown",
   "id": "8e138d7f",
   "metadata": {},
   "source": [
    "\n",
    "<h5> Test the model <h5>"
   ]
  },
  {
   "cell_type": "code",
   "execution_count": 285,
   "id": "c4bcb333",
   "metadata": {},
   "outputs": [
    {
     "name": "stdout",
     "output_type": "stream",
     "text": [
      "              precision    recall  f1-score   support\n",
      "\n",
      "           1       0.48      0.39      0.43      2904\n",
      "           2       0.35      0.10      0.16      2968\n",
      "           3       0.58      0.85      0.69      5667\n",
      "\n",
      "    accuracy                           0.54     11539\n",
      "   macro avg       0.47      0.45      0.43     11539\n",
      "weighted avg       0.50      0.54      0.49     11539\n",
      "\n"
     ]
    }
   ],
   "source": [
    "#Import scikit-learn metrics module for accuracy calculation\n",
    "from sklearn import metrics\n",
    "\n",
    "# Measuring metrics on Testing Data\n",
    "print(metrics.classification_report(y_test, prediction))\n",
    "\n"
   ]
  },
  {
   "cell_type": "code",
   "execution_count": 177,
   "id": "4e20d613",
   "metadata": {},
   "outputs": [
    {
     "data": {
      "image/png": "[encoded data removed]",
      "text/plain": [
       "<Figure size 640x480 with 1 Axes>"
      ]
     },
     "metadata": {},
     "output_type": "display_data"
    }
   ],
   "source": [
    "# Try different numbers of n_estimators\n",
    "estimators = np.arange(10, 150, 10)\n",
    "accuracy = []\n",
    "\n",
    "for n in estimators:\n",
    "    clf.set_params(n_estimators=n)\n",
    "    clf.fit(X_train, y_train)\n",
    "    y_pred=clf.predict(X_test)\n",
    "    accuracy.append(metrics.accuracy_score(y_test, y_pred))\n",
    "plt.title(\"Effect of n_estimators\")\n",
    "plt.xlabel(\"n_estimator\")\n",
    "plt.ylabel(\"accuracy\")\n",
    "plt.plot(estimators, accuracy);"
   ]
  },
  {
   "cell_type": "code",
   "execution_count": 68,
   "id": "b7568c15",
   "metadata": {},
   "outputs": [
    {
     "name": "stdout",
     "output_type": "stream",
     "text": [
      "\n",
      "Accuracy values for 10-fold Cross Validation:\n",
      " [0.32809443 0.430217   0.46463219 0.48389493 0.47594757 0.48710088\n",
      " 0.49931409 0.50587444 0.52735675 0.51216105]\n",
      "\n",
      "Final Average Accuracy of the model: 0.47\n"
     ]
    }
   ],
   "source": [
    "# Importing cross validation function from sklearn\n",
    "from sklearn.model_selection import cross_val_score\n",
    "\n",
    "# Running 10-Fold Cross validation on a given algorithm\n",
    "\n",
    "Accuracy_Values=cross_val_score(clf, X , y, cv=10, scoring='f1_weighted')\n",
    "print('\\nAccuracy values for 10-fold Cross Validation:\\n',Accuracy_Values)\n",
    "print('\\nFinal Average Accuracy of the model:', round(Accuracy_Values.mean(),2))"
   ]
  },
  {
   "cell_type": "code",
   "execution_count": 122,
   "id": "64e80670",
   "metadata": {},
   "outputs": [
    {
     "data": {
      "text/plain": [
       "Index(['n_tokens_title', 'n_tokens_content', 'n_unique_tokens',\n",
       "       'n_non_stop_words', 'n_non_stop_unique_tokens', 'num_hrefs',\n",
       "       'num_self_hrefs', 'num_imgs', 'num_videos', 'average_token_length',\n",
       "       'num_keywords', 'kw_min_min', 'kw_max_min', 'kw_avg_min', 'kw_min_max',\n",
       "       'kw_max_max', 'kw_avg_max', 'kw_min_avg', 'kw_max_avg', 'kw_avg_avg',\n",
       "       'self_reference_min_shares', 'self_reference_max_shares',\n",
       "       'self_reference_avg_sharess', 'LDA_00', 'LDA_01', 'LDA_02', 'LDA_03',\n",
       "       'LDA_04', 'global_subjectivity', 'global_sentiment_polarity',\n",
       "       'global_rate_positive_words', 'global_rate_negative_words',\n",
       "       'rate_positive_words', 'rate_negative_words', 'avg_positive_polarity',\n",
       "       'min_positive_polarity', 'max_positive_polarity',\n",
       "       'avg_negative_polarity', 'min_negative_polarity',\n",
       "       'max_negative_polarity', 'title_subjectivity',\n",
       "       'title_sentiment_polarity', 'abs_title_subjectivity',\n",
       "       'abs_title_sentiment_polarity', 'weekday', 'data_channel'],\n",
       "      dtype='object')"
      ]
     },
     "execution_count": 122,
     "metadata": {},
     "output_type": "execute_result"
    }
   ],
   "source": [
    "X.columns\n"
   ]
  },
  {
   "cell_type": "code",
   "execution_count": 386,
   "id": "a68182dd",
   "metadata": {},
   "outputs": [],
   "source": [
    "Predictors = ['n_tokens_title', 'n_tokens_content', 'n_unique_tokens',\n",
    "       'n_non_stop_words', 'n_non_stop_unique_tokens', 'num_hrefs',\n",
    "       'num_self_hrefs', 'num_imgs', 'num_videos', 'average_token_length',\n",
    "       'num_keywords', 'kw_min_min', 'kw_max_min', 'kw_avg_min', 'kw_min_max',\n",
    "       'kw_max_max', 'kw_avg_max', 'kw_min_avg', 'kw_max_avg', 'kw_avg_avg',\n",
    "       'self_reference_min_shares', 'self_reference_max_shares',\n",
    "       'self_reference_avg_sharess', 'LDA_00', 'LDA_01', 'LDA_02', 'LDA_03',\n",
    "       'LDA_04', 'global_subjectivity', 'global_sentiment_polarity',\n",
    "       'global_rate_positive_words', 'global_rate_negative_words',\n",
    "       'rate_positive_words', 'rate_negative_words', 'avg_positive_polarity',\n",
    "       'min_positive_polarity', 'max_positive_polarity',\n",
    "       'avg_negative_polarity', 'min_negative_polarity',\n",
    "       'max_negative_polarity', 'title_subjectivity',\n",
    "       'title_sentiment_polarity', 'abs_title_subjectivity',\n",
    "       'abs_title_sentiment_polarity', 'weekday', 'data_channel']"
   ]
  },
  {
   "cell_type": "code",
   "execution_count": 124,
   "id": "fe6e4be3",
   "metadata": {},
   "outputs": [
    {
     "data": {
      "text/plain": [
       "kw_avg_avg                      0.041740\n",
       "kw_max_avg                      0.037158\n",
       "LDA_02                          0.030710\n",
       "LDA_01                          0.029948\n",
       "self_reference_avg_sharess      0.029689\n",
       "global_subjectivity             0.029589\n",
       "kw_avg_min                      0.029581\n",
       "LDA_04                          0.029464\n",
       "kw_avg_max                      0.029380\n",
       "self_reference_min_shares       0.029048\n",
       "average_token_length            0.028842\n",
       "n_non_stop_unique_tokens        0.028666\n",
       "LDA_00                          0.028484\n",
       "global_rate_positive_words      0.028392\n",
       "n_unique_tokens                 0.027991\n",
       "avg_positive_polarity           0.027735\n",
       "n_tokens_content                0.027242\n",
       "global_sentiment_polarity       0.027108\n",
       "LDA_03                          0.026630\n",
       "kw_max_min                      0.026254\n",
       "global_rate_negative_words      0.025517\n",
       "avg_negative_polarity           0.025248\n",
       "self_reference_max_shares       0.023589\n",
       "weekday                         0.023397\n",
       "rate_negative_words             0.022372\n",
       "num_hrefs                       0.022333\n",
       "rate_positive_words             0.022216\n",
       "kw_min_avg                      0.021841\n",
       "kw_min_max                      0.017264\n",
       "n_tokens_title                  0.017127\n",
       "min_negative_polarity           0.016179\n",
       "max_negative_polarity           0.015372\n",
       "title_sentiment_polarity        0.015252\n",
       "num_self_hrefs                  0.014643\n",
       "data_channel                    0.014573\n",
       "title_subjectivity              0.013545\n",
       "num_imgs                        0.013443\n",
       "min_positive_polarity           0.013420\n",
       "abs_title_subjectivity          0.012505\n",
       "abs_title_sentiment_polarity    0.012232\n",
       "max_positive_polarity           0.011841\n",
       "num_keywords                    0.010974\n",
       "num_videos                      0.008331\n",
       "kw_max_max                      0.007345\n",
       "kw_min_min                      0.005792\n",
       "n_non_stop_words                0.000000\n",
       "dtype: float64"
      ]
     },
     "execution_count": 124,
     "metadata": {},
     "output_type": "execute_result"
    }
   ],
   "source": [
    "# List the feature importance \n",
    "\n",
    "\n",
    "%matplotlib inline\n",
    "feature_importances = pd.Series(clf.feature_importances_, index=Predictors).sort_values(ascending=False)\n",
    "\n",
    "\n",
    "feature_importances"
   ]
  },
  {
   "cell_type": "markdown",
   "id": "0e48fd97",
   "metadata": {},
   "source": [
    "<h2> B. Logistic Regression <h2>"
   ]
  },
  {
   "cell_type": "code",
   "execution_count": 58,
   "id": "c2b067c1",
   "metadata": {},
   "outputs": [],
   "source": [
    "#Import Logistic RegressionModel\n",
    "from sklearn.linear_model import LogisticRegression\n",
    "\n",
    "clf_B = LogisticRegression(C=1, penalty ='l1', max_iter=5000, solver='saga')\n",
    "\n",
    "LR=clf_B.fit(X_train,y_train)\n",
    "\n",
    "prediction=LR.predict(X_test)\n"
   ]
  },
  {
   "cell_type": "code",
   "execution_count": 57,
   "id": "6a3d9564",
   "metadata": {
    "scrolled": true
   },
   "outputs": [
    {
     "name": "stderr",
     "output_type": "stream",
     "text": [
      "C:\\Users\\jaimeip.000\\Anaconda2023\\lib\\site-packages\\sklearn\\metrics\\_classification.py:1469: UndefinedMetricWarning: Precision and F-score are ill-defined and being set to 0.0 in labels with no predicted samples. Use `zero_division` parameter to control this behavior.\n",
      "  _warn_prf(average, modifier, msg_start, len(result))\n",
      "C:\\Users\\jaimeip.000\\Anaconda2023\\lib\\site-packages\\sklearn\\metrics\\_classification.py:1469: UndefinedMetricWarning: Precision and F-score are ill-defined and being set to 0.0 in labels with no predicted samples. Use `zero_division` parameter to control this behavior.\n",
      "  _warn_prf(average, modifier, msg_start, len(result))\n",
      "C:\\Users\\jaimeip.000\\Anaconda2023\\lib\\site-packages\\sklearn\\metrics\\_classification.py:1469: UndefinedMetricWarning: Precision and F-score are ill-defined and being set to 0.0 in labels with no predicted samples. Use `zero_division` parameter to control this behavior.\n",
      "  _warn_prf(average, modifier, msg_start, len(result))\n"
     ]
    },
    {
     "name": "stdout",
     "output_type": "stream",
     "text": [
      "              precision    recall  f1-score   support\n",
      "\n",
      "           1       0.48      0.27      0.35      3619\n",
      "           2       0.00      0.00      0.00      2253\n",
      "           3       0.53      0.89      0.66      5667\n",
      "\n",
      "    accuracy                           0.52     11539\n",
      "   macro avg       0.34      0.39      0.34     11539\n",
      "weighted avg       0.41      0.52      0.44     11539\n",
      "\n"
     ]
    }
   ],
   "source": [
    "\n",
    "#Import scikit-learn metrics module for accuracy calculation\n",
    "from sklearn import metrics\n",
    "\n",
    "# Measuring metrics on Testing Data\n",
    "print(metrics.classification_report(y_test, prediction))\n",
    "\n"
   ]
  },
  {
   "cell_type": "code",
   "execution_count": 59,
   "id": "d7f58f3e",
   "metadata": {},
   "outputs": [
    {
     "name": "stdout",
     "output_type": "stream",
     "text": [
      "\n",
      "Accuracy values for 10-fold Cross Validation:\n",
      " [0.32546695 0.34423876 0.38292824 0.3804597  0.37762233 0.37969276\n",
      " 0.37441732 0.3777141  0.37336387 0.38919531]\n",
      "\n",
      "Final Average Accuracy of the model: 0.37\n"
     ]
    }
   ],
   "source": [
    "# Importing cross validation function from sklearn\n",
    "from sklearn.model_selection import cross_val_score\n",
    "\n",
    "# Running 10-Fold Cross validation on a given algorithm\n",
    "\n",
    "\n",
    "Accuracy_Values=cross_val_score(clf_B, X , y, cv=10, scoring='f1_weighted')\n",
    "print('\\nAccuracy values for 10-fold Cross Validation:\\n',Accuracy_Values)\n",
    "print('\\nFinal Average Accuracy of the model:', round(Accuracy_Values.mean(),2))"
   ]
  },
  {
   "cell_type": "markdown",
   "id": "00818f08",
   "metadata": {},
   "source": [
    "<h2> C. SVM <h2>"
   ]
  },
  {
   "cell_type": "code",
   "execution_count": 60,
   "id": "d0a646d1",
   "metadata": {},
   "outputs": [
    {
     "name": "stdout",
     "output_type": "stream",
     "text": [
      "Accuracy: 0.4911170812028772\n"
     ]
    }
   ],
   "source": [
    "#Create a svm Classifier\n",
    "from sklearn import svm\n",
    "\n",
    "\n",
    "clf_C = svm.SVC(kernel='rbf') # Linear Kernel\n",
    "         #You can choose ‘linear’, ‘poly’, ‘rbf’, ‘sigmoid’, ot ‘precomputed’, default=’rbf’\n",
    "\n",
    "#Train the model using the training sets\n",
    "clf_C.fit(X_train, y_train)\n",
    "\n",
    "#Predict the response for test dataset\n",
    "y_pred = clf_C.predict(X_test)\n",
    "\n",
    "print(\"Accuracy:\",metrics.accuracy_score(y_test, y_pred))\n"
   ]
  },
  {
   "cell_type": "code",
   "execution_count": 61,
   "id": "6f18e7e2",
   "metadata": {
    "scrolled": true
   },
   "outputs": [
    {
     "name": "stderr",
     "output_type": "stream",
     "text": [
      "C:\\Users\\jaimeip.000\\Anaconda2023\\lib\\site-packages\\sklearn\\metrics\\_classification.py:1469: UndefinedMetricWarning: Precision and F-score are ill-defined and being set to 0.0 in labels with no predicted samples. Use `zero_division` parameter to control this behavior.\n",
      "  _warn_prf(average, modifier, msg_start, len(result))\n",
      "C:\\Users\\jaimeip.000\\Anaconda2023\\lib\\site-packages\\sklearn\\metrics\\_classification.py:1469: UndefinedMetricWarning: Precision and F-score are ill-defined and being set to 0.0 in labels with no predicted samples. Use `zero_division` parameter to control this behavior.\n",
      "  _warn_prf(average, modifier, msg_start, len(result))\n",
      "C:\\Users\\jaimeip.000\\Anaconda2023\\lib\\site-packages\\sklearn\\metrics\\_classification.py:1469: UndefinedMetricWarning: Precision and F-score are ill-defined and being set to 0.0 in labels with no predicted samples. Use `zero_division` parameter to control this behavior.\n",
      "  _warn_prf(average, modifier, msg_start, len(result))\n"
     ]
    },
    {
     "name": "stdout",
     "output_type": "stream",
     "text": [
      "              precision    recall  f1-score   support\n",
      "\n",
      "           1       0.00      0.00      0.00      2904\n",
      "           2       0.00      0.00      0.00      2968\n",
      "           3       0.49      1.00      0.66      5667\n",
      "\n",
      "    accuracy                           0.49     11539\n",
      "   macro avg       0.16      0.33      0.22     11539\n",
      "weighted avg       0.24      0.49      0.32     11539\n",
      "\n"
     ]
    }
   ],
   "source": [
    "\n",
    "#Import scikit-learn metrics module for accuracy calculation\n",
    "from sklearn import metrics\n",
    "\n",
    "# Measuring metrics on Testing Data\n",
    "print(metrics.classification_report(y_test, y_pred))\n"
   ]
  },
  {
   "cell_type": "code",
   "execution_count": 62,
   "id": "d32532f1",
   "metadata": {},
   "outputs": [
    {
     "name": "stdout",
     "output_type": "stream",
     "text": [
      "\n",
      "Accuracy values for 10-fold Cross Validation:\n",
      " [0.32398904 0.32398904 0.32398904 0.32412977 0.32412977 0.32412977\n",
      " 0.32412977 0.32441613 0.32441613 0.32412977]\n",
      "\n",
      "Final Average Accuracy of the model: 0.32\n"
     ]
    }
   ],
   "source": [
    "# Importing cross validation function from sklearn\n",
    "from sklearn.model_selection import cross_val_score\n",
    "\n",
    "# Running 10-Fold Cross validation on a given algorithm\n",
    "\n",
    "\n",
    "Accuracy_Values=cross_val_score(clf_C, X , y, cv=10, scoring='f1_weighted')\n",
    "print('\\nAccuracy values for 10-fold Cross Validation:\\n',Accuracy_Values)\n",
    "print('\\nFinal Average Accuracy of the model:', round(Accuracy_Values.mean(),2))"
   ]
  },
  {
   "cell_type": "markdown",
   "id": "ff3562b1",
   "metadata": {},
   "source": [
    "<h2> 2nd Testing - Remove the least important 10 features on the features importance  <h2>"
   ]
  },
  {
   "cell_type": "code",
   "execution_count": 368,
   "id": "0460a7bb",
   "metadata": {},
   "outputs": [],
   "source": [
    "df_remove = df3.drop(df3.columns[[7,-13,-6,-12,-5,10,8,15,11,3]], axis=1)\n",
    "\n",
    "\n"
   ]
  },
  {
   "cell_type": "code",
   "execution_count": 369,
   "id": "77716879",
   "metadata": {},
   "outputs": [
    {
     "data": {
      "text/plain": [
       "(38463, 38)"
      ]
     },
     "execution_count": 369,
     "metadata": {},
     "output_type": "execute_result"
    }
   ],
   "source": [
    "df_remove.shape"
   ]
  },
  {
   "cell_type": "code",
   "execution_count": 371,
   "id": "c033103d",
   "metadata": {},
   "outputs": [
    {
     "name": "stdout",
     "output_type": "stream",
     "text": [
      "(26924, 36)\n",
      "(26924,)\n",
      "(11539, 36)\n",
      "(11539,)\n"
     ]
    }
   ],
   "source": [
    "\n",
    "\n",
    "X2= df_remove.drop(df_remove.columns[[-3,-4]], axis=1)\n",
    "y2=df_remove['shares_levels']  \n",
    "\n",
    "from sklearn.model_selection import train_test_split\n",
    "from sklearn.metrics import confusion_matrix\n",
    "from sklearn.metrics import accuracy_score,roc_curve,roc_auc_score\n",
    "\n",
    "X2_train, X2_test, y2_train, y2_test = train_test_split(X2, y2, test_size=0.3, random_state = 0) \n",
    "\n",
    "\n",
    "print(X2_train.shape)\n",
    "print(y2_train.shape)\n",
    "print(X2_test.shape)\n",
    "print(y2_test.shape)"
   ]
  },
  {
   "cell_type": "code",
   "execution_count": 372,
   "id": "aff9ac1d",
   "metadata": {},
   "outputs": [],
   "source": [
    "#2.Feature Scaling - StandardScaler\n",
    "from sklearn.preprocessing import StandardScaler\n",
    "\n",
    "sc = StandardScaler()\n",
    "\n",
    "#transform data\n",
    "normalized_X_train2 = sc.fit_transform(X2_train)\n",
    "normalized_X_test2 = sc.fit_transform(X2_test)\n",
    "\n",
    "\n",
    "\n"
   ]
  },
  {
   "cell_type": "code",
   "execution_count": 373,
   "id": "67c833a0",
   "metadata": {},
   "outputs": [],
   "source": [
    "#Import Random Forest Model\n",
    "from sklearn.ensemble import RandomForestClassifier\n",
    "\n",
    "#Create a Random Forest Classifier with 100 trees(default)\n",
    "clf=RandomForestClassifier(n_estimators=100)\n",
    "\n",
    "#Train the model using the training sets y_pred=clf.predict(X_test)\n",
    "RF=clf.fit(X2_train,y2_train)\n",
    "\n",
    "prediction2=RF.predict(X2_test)"
   ]
  },
  {
   "cell_type": "code",
   "execution_count": 320,
   "id": "2a09910c",
   "metadata": {
    "scrolled": true
   },
   "outputs": [
    {
     "name": "stdout",
     "output_type": "stream",
     "text": [
      "              precision    recall  f1-score   support\n",
      "\n",
      "           1       0.47      0.39      0.42      2904\n",
      "           2       0.34      0.11      0.16      2968\n",
      "           3       0.58      0.84      0.68      5667\n",
      "\n",
      "    accuracy                           0.54     11539\n",
      "   macro avg       0.46      0.44      0.42     11539\n",
      "weighted avg       0.49      0.54      0.48     11539\n",
      "\n"
     ]
    }
   ],
   "source": [
    "#Import scikit-learn metrics module for accuracy calculation\n",
    "from sklearn import metrics\n",
    "\n",
    "# Measuring metrics on Testing Data\n",
    "print(metrics.classification_report(y2_test, prediction2))"
   ]
  },
  {
   "cell_type": "code",
   "execution_count": 181,
   "id": "62af922b",
   "metadata": {
    "scrolled": false
   },
   "outputs": [
    {
     "data": {
      "image/png": "[encoded data removed]",
      "text/plain": [
       "<Figure size 640x480 with 1 Axes>"
      ]
     },
     "metadata": {},
     "output_type": "display_data"
    }
   ],
   "source": [
    "# Try different numbers of n_estimators\n",
    "estimators = np.arange(10, 150, 10)\n",
    "accuracy = []\n",
    "\n",
    "for n in estimators:\n",
    "    clf.set_params(n_estimators=n)\n",
    "    clf.fit(X2_train, y2_train)\n",
    "    y2_pred=clf.predict(X2_test)\n",
    "    accuracy.append(metrics.accuracy_score(y2_test, y2_pred))\n",
    "plt.title(\"Effect of n_estimators\")\n",
    "plt.xlabel(\"n_estimator\")\n",
    "plt.ylabel(\"accuracy\")\n",
    "plt.plot(estimators, accuracy);"
   ]
  },
  {
   "cell_type": "code",
   "execution_count": 321,
   "id": "c6de4ed5",
   "metadata": {},
   "outputs": [
    {
     "name": "stdout",
     "output_type": "stream",
     "text": [
      "\n",
      "Accuracy values for 10-fold Cross Validation:\n",
      " [0.33805128 0.41013241 0.46950889 0.48223797 0.47821066 0.47414417\n",
      " 0.49713834 0.51062035 0.51664666 0.5145445 ]\n",
      "\n",
      "Final Average Accuracy of the model: 0.47\n"
     ]
    }
   ],
   "source": [
    "# Importing cross validation function from sklearn\n",
    "from sklearn.model_selection import cross_val_score\n",
    "\n",
    "# Running 10-Fold Cross validation on a given algorithm\n",
    "\n",
    "Accuracy_Values=cross_val_score(clf, X2 , y2, cv=10, scoring='f1_weighted')\n",
    "print('\\nAccuracy values for 10-fold Cross Validation:\\n',Accuracy_Values)\n",
    "print('\\nFinal Average Accuracy of the model:', round(Accuracy_Values.mean(),2))"
   ]
  },
  {
   "cell_type": "markdown",
   "id": "41b93f04",
   "metadata": {},
   "source": [
    "<h3> Conclusion of testing 2 :Accuracy is not afftected after the least important 10 features are removed  <h3>"
   ]
  },
  {
   "cell_type": "markdown",
   "id": "38313759",
   "metadata": {},
   "source": [
    "<h2> Testing 3 - Change the class in variable share level <h2>"
   ]
  },
  {
   "cell_type": "code",
   "execution_count": 387,
   "id": "03ca73e7",
   "metadata": {},
   "outputs": [],
   "source": [
    "\n",
    "# Bin edges that will be used to divide the data into groups\n",
    "bin_edges = [0,1400,845000]\n",
    "\n",
    "# Labels for the  levels\n",
    "bin_names = [1, 2] \n",
    "\n",
    "\n",
    "df_remove['shares_levels'] = pd.cut(df2['shares'], bin_edges, labels=bin_names)\n"
   ]
  },
  {
   "cell_type": "code",
   "execution_count": 388,
   "id": "f3f0bc8b",
   "metadata": {},
   "outputs": [
    {
     "data": {
      "text/plain": [
       "shares_levels\n",
       "1    0.508307\n",
       "2    0.491693\n",
       "Name: shares, dtype: float64"
      ]
     },
     "execution_count": 388,
     "metadata": {},
     "output_type": "execute_result"
    }
   ],
   "source": [
    "df_remove.groupby('shares_levels').shares.count()/df_remove.shares.count()"
   ]
  },
  {
   "cell_type": "code",
   "execution_count": 352,
   "id": "af3232f7",
   "metadata": {},
   "outputs": [
    {
     "name": "stdout",
     "output_type": "stream",
     "text": [
      "(26924, 36)\n",
      "(26924,)\n",
      "(11539, 36)\n",
      "(11539,)\n"
     ]
    }
   ],
   "source": [
    "X2= df_remove.drop(df_remove.columns[[-3,-4]], axis=1)\n",
    "y2= df_remove['shares_levels']  \n",
    "\n",
    "from sklearn.model_selection import train_test_split\n",
    "from sklearn.metrics import confusion_matrix\n",
    "from sklearn.metrics import accuracy_score,roc_curve,roc_auc_score\n",
    "\n",
    "X2_train, X2_test, y2_train, y2_test = train_test_split(X2, y2, test_size=0.3, random_state = 0) \n",
    "\n",
    "\n",
    "print(X2_train.shape)\n",
    "print(y2_train.shape)\n",
    "print(X2_test.shape)\n",
    "print(y2_test.shape)"
   ]
  },
  {
   "cell_type": "code",
   "execution_count": 353,
   "id": "ede0a7c6",
   "metadata": {},
   "outputs": [],
   "source": [
    "#2.Feature Scaling - StandardScaler\n",
    "from sklearn.preprocessing import StandardScaler\n",
    "\n",
    "sc = StandardScaler()\n",
    "\n",
    "#transform data\n",
    "normalized_X_train2 = sc.fit_transform(X2_train)\n",
    "normalized_X_test2 = sc.fit_transform(X2_test)\n",
    "\n",
    "\n"
   ]
  },
  {
   "cell_type": "code",
   "execution_count": 354,
   "id": "3b909c6a",
   "metadata": {},
   "outputs": [],
   "source": [
    "#Import Random Forest Model\n",
    "from sklearn.ensemble import RandomForestClassifier\n",
    "\n",
    "#Create a Random Forest Classifier with 100 trees(default)\n",
    "clf=RandomForestClassifier(n_estimators=100)\n",
    "\n",
    "#Train the model using the training sets y_pred=clf.predict(X_test)\n",
    "RF=clf.fit(X2_train,y2_train)\n",
    "\n",
    "prediction2=RF.predict(X2_test)"
   ]
  },
  {
   "cell_type": "code",
   "execution_count": 327,
   "id": "3959969a",
   "metadata": {},
   "outputs": [
    {
     "name": "stdout",
     "output_type": "stream",
     "text": [
      "              precision    recall  f1-score   support\n",
      "\n",
      "           1       0.65      0.67      0.66      5872\n",
      "           2       0.65      0.63      0.64      5667\n",
      "\n",
      "    accuracy                           0.65     11539\n",
      "   macro avg       0.65      0.65      0.65     11539\n",
      "weighted avg       0.65      0.65      0.65     11539\n",
      "\n"
     ]
    }
   ],
   "source": [
    "#Import scikit-learn metrics module for accuracy calculation\n",
    "from sklearn import metrics\n",
    "\n",
    "# Measuring metrics on Testing Data\n",
    "print(metrics.classification_report(y2_test, prediction2))"
   ]
  },
  {
   "cell_type": "code",
   "execution_count": 217,
   "id": "08586f93",
   "metadata": {},
   "outputs": [
    {
     "data": {
      "image/png": "[encoded data removed]",
      "text/plain": [
       "<Figure size 640x480 with 1 Axes>"
      ]
     },
     "metadata": {},
     "output_type": "display_data"
    }
   ],
   "source": [
    "# Try different numbers of n_estimators\n",
    "estimators = np.arange(10, 150, 10)\n",
    "accuracy = []\n",
    "\n",
    "for n in estimators:\n",
    "    clf.set_params(n_estimators=n)\n",
    "    clf.fit(X2_train, y2_train)\n",
    "    y2_pred=clf.predict(X2_test)\n",
    "    accuracy.append(metrics.accuracy_score(y2_test, y2_pred))\n",
    "plt.title(\"Effect of n_estimators\")\n",
    "plt.xlabel(\"n_estimator\")\n",
    "plt.ylabel(\"accuracy\")\n",
    "plt.plot(estimators, accuracy);"
   ]
  },
  {
   "cell_type": "code",
   "execution_count": 328,
   "id": "2d76dcc1",
   "metadata": {
    "scrolled": true
   },
   "outputs": [
    {
     "name": "stdout",
     "output_type": "stream",
     "text": [
      "\n",
      "Accuracy values for 10-fold Cross Validation:\n",
      " [0.43671524 0.58735631 0.63785726 0.652909   0.64110356 0.66855455\n",
      " 0.6679816  0.67393784 0.67979784 0.6566545 ]\n",
      "\n",
      "Final Average Accuracy of the model: 0.63\n"
     ]
    }
   ],
   "source": [
    "# Importing cross validation function from sklearn\n",
    "from sklearn.model_selection import cross_val_score\n",
    "\n",
    "# Running 10-Fold Cross validation on a given algorithm\n",
    "\n",
    "Accuracy_Values=cross_val_score(clf, X2 , y2, cv=10, scoring='f1_weighted')\n",
    "print('\\nAccuracy values for 10-fold Cross Validation:\\n',Accuracy_Values)\n",
    "print('\\nFinal Average Accuracy of the model:', round(Accuracy_Values.mean(),2))"
   ]
  },
  {
   "cell_type": "code",
   "execution_count": null,
   "id": "85206e6c",
   "metadata": {},
   "outputs": [],
   "source": [
    "# Importing cross validation function from sklearn\n",
    "from sklearn.model_selection import cross_val_score\n",
    "\n",
    "# Running 10-Fold Cross validation on a given algorithm\n",
    "\n",
    "Accuracy_Values=cross_val_score(clf, X2 , y2, cv=5, scoring='f1_weighted')\n",
    "print('\\nAccuracy values for 10-fold Cross Validation:\\n',Accuracy_Values)\n",
    "print('\\nFinal Average Accuracy of the model:', round(Accuracy_Values.mean(),2))"
   ]
  },
  {
   "cell_type": "code",
   "execution_count": 329,
   "id": "569d4411",
   "metadata": {},
   "outputs": [],
   "source": [
    "#Import Logistic RegressionModel\n",
    "from sklearn.linear_model import LogisticRegression\n",
    "\n",
    "clf_B = LogisticRegression(C=1, penalty ='l1', max_iter=5000, solver='saga')\n",
    "\n",
    "LR=clf_B.fit(X2_train,y2_train)\n",
    "\n",
    "prediction=LR.predict(X2_test)"
   ]
  },
  {
   "cell_type": "code",
   "execution_count": 330,
   "id": "8e7a337f",
   "metadata": {},
   "outputs": [
    {
     "name": "stdout",
     "output_type": "stream",
     "text": [
      "              precision    recall  f1-score   support\n",
      "\n",
      "           1       0.59      0.66      0.62      5872\n",
      "           2       0.60      0.52      0.56      5667\n",
      "\n",
      "    accuracy                           0.59     11539\n",
      "   macro avg       0.59      0.59      0.59     11539\n",
      "weighted avg       0.59      0.59      0.59     11539\n",
      "\n"
     ]
    }
   ],
   "source": [
    "\n",
    "#Import scikit-learn metrics module for accuracy calculation\n",
    "from sklearn import metrics\n",
    "\n",
    "# Measuring metrics on Testing Data\n",
    "print(metrics.classification_report(y2_test,prediction))\n"
   ]
  },
  {
   "cell_type": "code",
   "execution_count": 331,
   "id": "a1705436",
   "metadata": {},
   "outputs": [
    {
     "name": "stdout",
     "output_type": "stream",
     "text": [
      "\n",
      "Accuracy values for 10-fold Cross Validation:\n",
      " [0.39161971 0.59800763 0.64109214 0.55347359 0.58105554 0.59925339\n",
      " 0.58071078 0.60201626 0.62231344 0.59331224]\n",
      "\n",
      "Final Average Accuracy of the model: 0.58\n"
     ]
    }
   ],
   "source": [
    "# Importing cross validation function from sklearn\n",
    "from sklearn.model_selection import cross_val_score\n",
    "\n",
    "# Running 10-Fold Cross validation on a given algorithm\n",
    "\n",
    "\n",
    "Accuracy_Values=cross_val_score(clf_B, X2 , y2, cv=10, scoring='f1_weighted')\n",
    "print('\\nAccuracy values for 10-fold Cross Validation:\\n',Accuracy_Values)\n",
    "print('\\nFinal Average Accuracy of the model:', round(Accuracy_Values.mean(),2))"
   ]
  },
  {
   "cell_type": "code",
   "execution_count": 333,
   "id": "25239c4b",
   "metadata": {},
   "outputs": [
    {
     "name": "stdout",
     "output_type": "stream",
     "text": [
      "Accuracy: 0.5359216569893405\n"
     ]
    }
   ],
   "source": [
    "#Create a svm Classifier\n",
    "from sklearn import svm\n",
    "\n",
    "\n",
    "clf_C = svm.SVC(kernel='rbf') # Linear Kernel\n",
    "         #You can choose ‘linear’, ‘poly’, ‘rbf’, ‘sigmoid’, ot ‘precomputed’, default=’rbf’\n",
    "\n",
    "#Train the model using the training sets\n",
    "clf_C.fit(X2_train, y2_train)\n",
    "\n",
    "#Predict the response for test dataset\n",
    "y_pred = clf_C.predict(X2_test)\n",
    "\n",
    "print(\"Accuracy:\",metrics.accuracy_score(y2_test, y_pred))"
   ]
  },
  {
   "cell_type": "code",
   "execution_count": 334,
   "id": "db80835a",
   "metadata": {},
   "outputs": [
    {
     "name": "stdout",
     "output_type": "stream",
     "text": [
      "              precision    recall  f1-score   support\n",
      "\n",
      "           1       0.53      0.73      0.62      5872\n",
      "           2       0.55      0.33      0.41      5667\n",
      "\n",
      "    accuracy                           0.54     11539\n",
      "   macro avg       0.54      0.53      0.51     11539\n",
      "weighted avg       0.54      0.54      0.52     11539\n",
      "\n"
     ]
    }
   ],
   "source": [
    "\n",
    "#Import scikit-learn metrics module for accuracy calculation\n",
    "from sklearn import metrics\n",
    "\n",
    "# Measuring metrics on Testing Data\n",
    "print(metrics.classification_report(y2_test, y_pred))"
   ]
  },
  {
   "cell_type": "code",
   "execution_count": 335,
   "id": "452057e7",
   "metadata": {
    "scrolled": true
   },
   "outputs": [
    {
     "name": "stdout",
     "output_type": "stream",
     "text": [
      "\n",
      "Accuracy values for 10-fold Cross Validation:\n",
      " [0.32398904 0.32427528 0.41008421 0.42149832 0.4371186  0.42910944\n",
      " 0.4427739  0.42614476 0.41251802 0.40103047]\n",
      "\n",
      "Final Average Accuracy of the model: 0.4\n"
     ]
    }
   ],
   "source": [
    "# Importing cross validation function from sklearn\n",
    "from sklearn.model_selection import cross_val_score\n",
    "\n",
    "# Running 10-Fold Cross validation on a given algorithm\n",
    "\n",
    "\n",
    "Accuracy_Values=cross_val_score(clf_C, X2 , y2, cv=10, scoring='f1_weighted')\n",
    "print('\\nAccuracy values for 10-fold Cross Validation:\\n',Accuracy_Values)\n",
    "print('\\nFinal Average Accuracy of the model:', round(Accuracy_Values.mean(),2))"
   ]
  },
  {
   "cell_type": "code",
   "execution_count": null,
   "id": "886346ee",
   "metadata": {},
   "outputs": [],
   "source": [
    "<h2> F"
   ]
  },
  {
   "cell_type": "code",
   "execution_count": null,
   "id": "1220ff68",
   "metadata": {},
   "outputs": [],
   "source": [
    "from sklearn.model_selection import GridSearchCV\n",
    "import warnings\n",
    "warnings.filterwarnings('ignore')\n",
    "# parameter grid\n",
    "parameters = {\n",
    "    'penalty' : ['l1','l2'], \n",
    "    'C'       : np.logspace(-3,3,7),\n",
    "    'solver'  : ['newton-cg', 'lbfgs', 'liblinear'],"
   ]
  },
  {
   "cell_type": "code",
   "execution_count": 349,
   "id": "7810fbca",
   "metadata": {},
   "outputs": [
    {
     "name": "stdout",
     "output_type": "stream",
     "text": [
      "{'criterion': 'entropy', 'max_depth': 9, 'max_features': 2, 'min_samples_leaf': 17, 'min_samples_split': 3, 'n_estimators': 17}\n"
     ]
    }
   ],
   "source": [
    "from scipy.stats import randint as sp_randint\n",
    "from sklearn.model_selection import RandomizedSearchCV\n",
    "rf=RandomForestClassifier(random_state=1)\n",
    "\n",
    "params={'n_estimators':sp_randint(5,25),\n",
    "       'criterion':['gini','entropy'],\n",
    "       'max_depth':sp_randint(2,10),\n",
    "       'min_samples_split':sp_randint(2,20),\n",
    "       'min_samples_leaf':sp_randint(1,20),\n",
    "       'max_features':sp_randint(2,15)}\n",
    "rand_search_rfc=RandomizedSearchCV(rf,param_distributions=params,cv=3,random_state=1)\n",
    "\n",
    "rand_search_rfc.fit(X2,y2)\n",
    "\n",
    "print(rand_search_rfc.best_params_)"
   ]
  },
  {
   "cell_type": "code",
   "execution_count": 348,
   "id": "ffdaeced",
   "metadata": {},
   "outputs": [
    {
     "name": "stdout",
     "output_type": "stream",
     "text": [
      "Accuracy of Random forest train : 0.7014559500817115\n",
      "Accuracy of random forest test : 0.6423433573099921\n",
      "AUC of random forest train : 0.7739339834496234\n",
      "AUC of random forest test : 0.696084374424521\n"
     ]
    }
   ],
   "source": [
    "rf=RandomForestClassifier(**rand_search_rfc.best_params_)\n",
    "rf.fit(X2_train,y2_train)\n",
    "y_pred_train=rf.predict(X2_train)\n",
    "y_prob_train=rf.predict_proba(X2_train)[:,1]\n",
    "\n",
    "y_pred=rf.predict(X2_test)\n",
    "y_prob=rf.predict_proba(X2_test)[:,1]  #used to find AUC of train and test\n",
    "\n",
    "from sklearn.metrics import accuracy_score,roc_curve,roc_auc_score\n",
    "\n",
    "print('Accuracy of Random forest train :',accuracy_score(y_pred_train,y2_train))\n",
    "print('Accuracy of random forest test :',accuracy_score(y_pred,y2_test))\n",
    "\n",
    "\n",
    "print('AUC of random forest train :',roc_auc_score(y2_train,y_prob_train))\n",
    "print('AUC of random forest test :',roc_auc_score(y2_test,y_prob))"
   ]
  },
  {
   "cell_type": "markdown",
   "id": "ead29362",
   "metadata": {},
   "source": [
    "<h5> Features selection by RFE <h5>"
   ]
  },
  {
   "cell_type": "code",
   "execution_count": 375,
   "id": "2b48c3ef",
   "metadata": {},
   "outputs": [],
   "source": [
    "df_remove_feature = df_remove.drop(df_remove.columns[[-3,-4]], axis=1)\n",
    "\n"
   ]
  },
  {
   "cell_type": "code",
   "execution_count": 376,
   "id": "ca630213",
   "metadata": {
    "scrolled": true
   },
   "outputs": [
    {
     "data": {
      "text/plain": [
       "Index(['n_tokens_title', 'n_tokens_content', 'n_unique_tokens',\n",
       "       'n_non_stop_unique_tokens', 'num_hrefs', 'num_self_hrefs',\n",
       "       'average_token_length', 'kw_max_min', 'kw_avg_min', 'kw_min_max',\n",
       "       'kw_avg_max', 'kw_min_avg', 'kw_max_avg', 'kw_avg_avg',\n",
       "       'self_reference_min_shares', 'self_reference_max_shares',\n",
       "       'self_reference_avg_sharess', 'LDA_00', 'LDA_01', 'LDA_02', 'LDA_03',\n",
       "       'LDA_04', 'global_subjectivity', 'global_sentiment_polarity',\n",
       "       'global_rate_positive_words', 'global_rate_negative_words',\n",
       "       'rate_positive_words', 'rate_negative_words', 'avg_positive_polarity',\n",
       "       'avg_negative_polarity', 'min_negative_polarity',\n",
       "       'max_negative_polarity', 'title_subjectivity',\n",
       "       'title_sentiment_polarity', 'weekday', 'data_channel'],\n",
       "      dtype='object')"
      ]
     },
     "execution_count": 376,
     "metadata": {},
     "output_type": "execute_result"
    }
   ],
   "source": [
    "df_remove_feature.columns"
   ]
  },
  {
   "cell_type": "code",
   "execution_count": 377,
   "id": "caac5c17",
   "metadata": {},
   "outputs": [
    {
     "name": "stdout",
     "output_type": "stream",
     "text": [
      "[False  True  True  True False False  True False  True False  True False\n",
      "  True  True False False  True  True  True  True False  True  True  True\n",
      "  True  True False False  True False False False False False False False]\n",
      "[13  1  1  1  7 19  1  5  1 14  1  9  1  1  2  8  1  1  1  1  4  1  1  1\n",
      "  1  1 10  6  1  3 15 16 17 12 11 18]\n"
     ]
    }
   ],
   "source": [
    "# Feature selection\n",
    "\n",
    "from sklearn.feature_selection import RFE\n",
    "cols=df_remove_feature.columns\n",
    "model=RandomForestClassifier()\n",
    "rfe=RFE(model)\n",
    "#Transforming data using RFE\n",
    "X_rfe = rfe.fit_transform(X2,y2)  \n",
    "#Fitting the data to model\n",
    "model.fit(X_rfe,y2)\n",
    "print(rfe.support_)\n",
    "print(rfe.ranking_)"
   ]
  },
  {
   "cell_type": "code",
   "execution_count": 378,
   "id": "32e344ff",
   "metadata": {},
   "outputs": [
    {
     "name": "stdout",
     "output_type": "stream",
     "text": [
      "['n_tokens_content' 'n_unique_tokens' 'n_non_stop_unique_tokens'\n",
      " 'average_token_length' 'kw_avg_min' 'kw_avg_max' 'kw_max_avg'\n",
      " 'kw_avg_avg' 'self_reference_avg_sharess' 'LDA_00' 'LDA_01' 'LDA_02'\n",
      " 'LDA_04' 'global_subjectivity' 'global_sentiment_polarity'\n",
      " 'global_rate_positive_words' 'global_rate_negative_words'\n",
      " 'avg_positive_polarity']\n"
     ]
    }
   ],
   "source": [
    "# convert the list to be more readable \n",
    "\n",
    "\n",
    "features_names = rfe.feature_names_in_\n",
    "\n",
    "print(features_names[rfe.support_])"
   ]
  },
  {
   "cell_type": "code",
   "execution_count": 379,
   "id": "d2f473ec",
   "metadata": {},
   "outputs": [
    {
     "data": {
      "text/plain": [
       "Text(0.5, 0, 'Feature Importance')"
      ]
     },
     "execution_count": 379,
     "metadata": {},
     "output_type": "execute_result"
    },
    {
     "data": {
      "image/png": "[encoded data removed]",
      "text/plain": [
       "<Figure size 640x480 with 1 Axes>"
      ]
     },
     "metadata": {},
     "output_type": "display_data"
    }
   ],
   "source": [
    "#create feature importance graph\n",
    "sort = model.feature_importances_.argsort()\n",
    "plt.barh(features_names[sort], model.feature_importances_[sort])\n",
    "plt.xlabel(\"Feature Importance\")"
   ]
  },
  {
   "cell_type": "code",
   "execution_count": 382,
   "id": "6d899d79",
   "metadata": {},
   "outputs": [
    {
     "data": {
      "text/plain": [
       "Index(['n_tokens_title', 'n_tokens_content', 'n_unique_tokens',\n",
       "       'n_non_stop_unique_tokens', 'num_hrefs', 'num_self_hrefs',\n",
       "       'average_token_length', 'kw_max_min', 'kw_avg_min', 'kw_min_max',\n",
       "       'kw_avg_max', 'kw_min_avg', 'kw_max_avg', 'kw_avg_avg',\n",
       "       'self_reference_min_shares', 'self_reference_max_shares',\n",
       "       'self_reference_avg_sharess', 'LDA_00', 'LDA_01', 'LDA_02', 'LDA_03',\n",
       "       'LDA_04', 'global_subjectivity', 'global_sentiment_polarity',\n",
       "       'global_rate_positive_words', 'global_rate_negative_words',\n",
       "       'rate_positive_words', 'rate_negative_words', 'avg_positive_polarity',\n",
       "       'avg_negative_polarity', 'min_negative_polarity',\n",
       "       'max_negative_polarity', 'title_subjectivity',\n",
       "       'title_sentiment_polarity', 'weekday', 'data_channel'],\n",
       "      dtype='object')"
      ]
     },
     "execution_count": 382,
     "metadata": {},
     "output_type": "execute_result"
    }
   ],
   "source": [
    "df_remove_feature.columns"
   ]
  },
  {
   "cell_type": "code",
   "execution_count": 384,
   "id": "37cef5d5",
   "metadata": {},
   "outputs": [],
   "source": [
    "Predictors2 = ['n_tokens_title', 'n_tokens_content', 'n_unique_tokens',\n",
    "       'n_non_stop_unique_tokens', 'num_hrefs', 'num_self_hrefs',\n",
    "       'average_token_length', 'kw_max_min', 'kw_avg_min', 'kw_min_max',\n",
    "       'kw_avg_max', 'kw_min_avg', 'kw_max_avg', 'kw_avg_avg',\n",
    "       'self_reference_min_shares', 'self_reference_max_shares',\n",
    "       'self_reference_avg_sharess', 'LDA_00', 'LDA_01', 'LDA_02', 'LDA_03',\n",
    "       'LDA_04', 'global_subjectivity', 'global_sentiment_polarity',\n",
    "       'global_rate_positive_words', 'global_rate_negative_words',\n",
    "       'rate_positive_words', 'rate_negative_words', 'avg_positive_polarity',\n",
    "       'avg_negative_polarity', 'min_negative_polarity',\n",
    "       'max_negative_polarity', 'title_subjectivity',\n",
    "       'title_sentiment_polarity', 'weekday', 'data_channel']"
   ]
  },
  {
   "cell_type": "code",
   "execution_count": 385,
   "id": "45cbc2fa",
   "metadata": {},
   "outputs": [
    {
     "data": {
      "text/plain": [
       "kw_avg_avg                    0.043840\n",
       "kw_max_avg                    0.041660\n",
       "LDA_02                        0.034483\n",
       "kw_avg_max                    0.034045\n",
       "kw_avg_min                    0.033527\n",
       "LDA_01                        0.033228\n",
       "LDA_04                        0.033096\n",
       "global_subjectivity           0.032933\n",
       "average_token_length          0.032546\n",
       "self_reference_min_shares     0.031895\n",
       "n_non_stop_unique_tokens      0.031857\n",
       "avg_positive_polarity         0.031637\n",
       "LDA_00                        0.031547\n",
       "self_reference_avg_sharess    0.031183\n",
       "global_rate_positive_words    0.031112\n",
       "n_unique_tokens               0.031018\n",
       "n_tokens_content              0.030620\n",
       "global_sentiment_polarity     0.029875\n",
       "LDA_03                        0.029814\n",
       "kw_max_min                    0.029074\n",
       "avg_negative_polarity         0.028276\n",
       "global_rate_negative_words    0.028263\n",
       "weekday                       0.025463\n",
       "self_reference_max_shares     0.025227\n",
       "num_hrefs                     0.024474\n",
       "rate_positive_words           0.023999\n",
       "rate_negative_words           0.023812\n",
       "kw_min_avg                    0.023808\n",
       "n_tokens_title                0.019302\n",
       "kw_min_max                    0.018290\n",
       "title_sentiment_polarity      0.018090\n",
       "min_negative_polarity         0.017483\n",
       "max_negative_polarity         0.016920\n",
       "title_subjectivity            0.016524\n",
       "data_channel                  0.015558\n",
       "num_self_hrefs                0.015522\n",
       "dtype: float64"
      ]
     },
     "execution_count": 385,
     "metadata": {},
     "output_type": "execute_result"
    }
   ],
   "source": [
    "\n",
    "%matplotlib inline\n",
    "feature_importances = pd.Series(clf.feature_importances_, index=Predictors2).sort_values(ascending=False)\n",
    "\n",
    "\n",
    "feature_importances"
   ]
  },
  {
   "cell_type": "markdown",
   "id": "fff6c5a3",
   "metadata": {},
   "source": [
    "<h2> 4th round testing - remove 7 common least important features  in 2 feature importance lists <h2>"
   ]
  },
  {
   "cell_type": "code",
   "execution_count": 389,
   "id": "7f8779f0",
   "metadata": {},
   "outputs": [
    {
     "data": {
      "text/plain": [
       "Index(['n_tokens_title', 'n_tokens_content', 'n_unique_tokens',\n",
       "       'n_non_stop_unique_tokens', 'num_hrefs', 'num_self_hrefs',\n",
       "       'average_token_length', 'kw_max_min', 'kw_avg_min', 'kw_min_max',\n",
       "       'kw_avg_max', 'kw_min_avg', 'kw_max_avg', 'kw_avg_avg',\n",
       "       'self_reference_min_shares', 'self_reference_max_shares',\n",
       "       'self_reference_avg_sharess', 'LDA_00', 'LDA_01', 'LDA_02', 'LDA_03',\n",
       "       'LDA_04', 'global_subjectivity', 'global_sentiment_polarity',\n",
       "       'global_rate_positive_words', 'global_rate_negative_words',\n",
       "       'rate_positive_words', 'rate_negative_words', 'avg_positive_polarity',\n",
       "       'avg_negative_polarity', 'min_negative_polarity',\n",
       "       'max_negative_polarity', 'title_subjectivity',\n",
       "       'title_sentiment_polarity', 'shares', 'shares_levels', 'weekday',\n",
       "       'data_channel'],\n",
       "      dtype='object')"
      ]
     },
     "execution_count": 389,
     "metadata": {},
     "output_type": "execute_result"
    }
   ],
   "source": [
    "df_remove.columns"
   ]
  },
  {
   "cell_type": "code",
   "execution_count": 405,
   "id": "f472e2fe",
   "metadata": {},
   "outputs": [],
   "source": [
    "X3= df_remove.drop(df_remove.columns[[4,9,-5,-6,-7,-8,0,-3,-4]], axis=1)\n",
    "\n"
   ]
  },
  {
   "cell_type": "code",
   "execution_count": 407,
   "id": "0d244758",
   "metadata": {},
   "outputs": [
    {
     "data": {
      "text/plain": [
       "(38463, 29)"
      ]
     },
     "execution_count": 407,
     "metadata": {},
     "output_type": "execute_result"
    }
   ],
   "source": [
    "x3.shape"
   ]
  },
  {
   "cell_type": "code",
   "execution_count": 420,
   "id": "7ab11a7e",
   "metadata": {},
   "outputs": [
    {
     "name": "stdout",
     "output_type": "stream",
     "text": [
      "(26924, 29)\n",
      "(26924,)\n",
      "(11539, 29)\n",
      "(11539,)\n"
     ]
    }
   ],
   "source": [
    "X3= df_remove.drop(df_remove.columns[[4,9,-5,-6,-7,-8,0,-3,-4]], axis=1)\n",
    "y3= df_remove['shares_levels']  \n",
    "\n",
    "from sklearn.model_selection import train_test_split\n",
    "from sklearn.metrics import confusion_matrix\n",
    "from sklearn.metrics import accuracy_score,roc_curve,roc_auc_score\n",
    "\n",
    "X3_train, X3_test, y3_train, y3_test = train_test_split(X3, y3, test_size=0.3, random_state = 0) \n",
    "\n",
    "\n",
    "print(X3_train.shape)\n",
    "print(y3_train.shape)\n",
    "print(X3_test.shape)\n",
    "print(y3_test.shape)"
   ]
  },
  {
   "cell_type": "code",
   "execution_count": 411,
   "id": "7820a8b5",
   "metadata": {},
   "outputs": [],
   "source": [
    "#2.Feature Scaling - StandardScaler\n",
    "from sklearn.preprocessing import StandardScaler\n",
    "\n",
    "sc = StandardScaler()\n",
    "\n",
    "#transform data\n",
    "normalized_X_train3 = sc.fit_transform(X3_train)\n",
    "normalized_X_test3 = sc.fit_transform(X3_test)\n"
   ]
  },
  {
   "cell_type": "code",
   "execution_count": 415,
   "id": "496f044e",
   "metadata": {},
   "outputs": [],
   "source": [
    "#Import Random Forest Model\n",
    "from sklearn.ensemble import RandomForestClassifier\n",
    "\n",
    "#Create a Random Forest Classifier with 100 trees(default)\n",
    "clf=RandomForestClassifier(n_estimators=100)\n",
    "\n",
    "#Train the model using the training sets y_pred=clf.predict(X_test)\n",
    "RF=clf.fit(X3_train,y3_train)\n",
    "\n",
    "prediction3=RF.predict(X3_test)"
   ]
  },
  {
   "cell_type": "code",
   "execution_count": 413,
   "id": "e849ea3f",
   "metadata": {},
   "outputs": [
    {
     "name": "stdout",
     "output_type": "stream",
     "text": [
      "              precision    recall  f1-score   support\n",
      "\n",
      "           1       0.65      0.67      0.66      5872\n",
      "           2       0.65      0.63      0.64      5667\n",
      "\n",
      "    accuracy                           0.65     11539\n",
      "   macro avg       0.65      0.65      0.65     11539\n",
      "weighted avg       0.65      0.65      0.65     11539\n",
      "\n"
     ]
    }
   ],
   "source": [
    "#Import scikit-learn metrics module for accuracy calculation\n",
    "from sklearn import metrics\n",
    "\n",
    "# Measuring metrics on Testing Data\n",
    "print(metrics.classification_report(y3_test, prediction3))"
   ]
  },
  {
   "cell_type": "code",
   "execution_count": 414,
   "id": "a2ad1e66",
   "metadata": {},
   "outputs": [
    {
     "name": "stdout",
     "output_type": "stream",
     "text": [
      "\n",
      "Accuracy values for 10-fold Cross Validation:\n",
      " [0.55414652 0.62739455 0.64463444 0.65966882 0.64297687 0.65835566\n",
      " 0.66067502 0.67986555 0.67802917 0.65334519]\n",
      "\n",
      "Final Average Accuracy of the model: 0.65\n"
     ]
    }
   ],
   "source": [
    "# Importing cross validation function from sklearn\n",
    "from sklearn.model_selection import cross_val_score\n",
    "\n",
    "# Running 10-Fold Cross validation on a given algorithm\n",
    "\n",
    "Accuracy_Values=cross_val_score(clf, X3 , y3, cv=10, scoring='f1_weighted')\n",
    "print('\\nAccuracy values for 10-fold Cross Validation:\\n',Accuracy_Values)\n",
    "print('\\nFinal Average Accuracy of the model:', round(Accuracy_Values.mean(),2))\n",
    "\n"
   ]
  },
  {
   "cell_type": "markdown",
   "id": "65e98f15",
   "metadata": {},
   "source": [
    "<h2> Fine Tune Model - Random Search <h2>\n"
   ]
  },
  {
   "cell_type": "code",
   "execution_count": 428,
   "id": "5f62460b",
   "metadata": {},
   "outputs": [
    {
     "name": "stdout",
     "output_type": "stream",
     "text": [
      "{'criterion': 'entropy', 'max_depth': 9, 'max_features': 2, 'min_samples_leaf': 17, 'min_samples_split': 3, 'n_estimators': 17}\n"
     ]
    }
   ],
   "source": [
    "\n",
    "from scipy.stats import randint as sp_randint\n",
    "from sklearn.model_selection import RandomizedSearchCV\n",
    "rf=RandomForestClassifier(random_state=1)\n",
    "\n",
    "params={'n_estimators':sp_randint(5,25),\n",
    "       'criterion':['gini','entropy'],\n",
    "       'max_depth':sp_randint(2,10),\n",
    "       'min_samples_split':sp_randint(2,20),\n",
    "       'min_samples_leaf':sp_randint(1,20),\n",
    "       'max_features':sp_randint(2,15)}\n",
    "rand_search_rfc=RandomizedSearchCV(rf,param_distributions=params,cv=3,random_state=1)\n",
    "\n",
    "model_random = rand_search_rfc.fit(X3,y3)\n",
    "\n",
    "\n",
    "print(rand_search_rfc.best_params_)\n",
    "\n"
   ]
  },
  {
   "cell_type": "code",
   "execution_count": 429,
   "id": "c187315b",
   "metadata": {},
   "outputs": [
    {
     "name": "stdout",
     "output_type": "stream",
     "text": [
      "Accuracy of Random forest train : 0.7023102065072054\n",
      "Accuracy of random forest test : 0.6443365976254442\n",
      "AUC of random forest train : 0.7745251412620454\n",
      "AUC of random forest test : 0.6954234299729443\n",
      "Best score is: 0.6406936536411617\n"
     ]
    }
   ],
   "source": [
    "rf=RandomForestClassifier(**rand_search_rfc.best_params_)\n",
    "rf.fit(X3_train,y3_train)\n",
    "y_pred_train=rf.predict(X3_train)\n",
    "y_prob_train=rf.predict_proba(X3_train)[:,1]\n",
    "\n",
    "y_pred=rf.predict(X3_test)\n",
    "y_prob=rf.predict_proba(X3_test)[:,1]  #used to find AUC of train and test\n",
    "\n",
    "from sklearn.metrics import accuracy_score,roc_curve,roc_auc_score\n",
    "\n",
    "print('Accuracy of Random forest train :',accuracy_score(y_pred_train,y3_train))\n",
    "print('Accuracy of random forest test :',accuracy_score(y_pred,y3_test))\n",
    "\n",
    "\n",
    "print('AUC of random forest train :',roc_auc_score(y3_train,y_prob_train))\n",
    "print('AUC of random forest test :',roc_auc_score(y3_test,y_prob))\n",
    "\n",
    "print('Best score is: '+str(model_random.best_score_))"
   ]
  },
  {
   "cell_type": "code",
   "execution_count": null,
   "id": "933b4557",
   "metadata": {},
   "outputs": [],
   "source": []
  },
  {
   "cell_type": "code",
   "execution_count": null,
   "id": "4f90b7bd",
   "metadata": {},
   "outputs": [],
   "source": []
  }
 ],
 "metadata": {
  "kernelspec": {
   "display_name": "Python 3 (ipykernel)",
   "language": "python",
   "name": "python3"
  },
  "language_info": {
   "codemirror_mode": {
    "name": "ipython",
    "version": 3
   },
   "file_extension": ".py",
   "mimetype": "text/x-python",
   "name": "python",
   "nbconvert_exporter": "python",
   "pygments_lexer": "ipython3",
   "version": "3.10.9"
  }
 },
 "nbformat": 4,
 "nbformat_minor": 5
}
